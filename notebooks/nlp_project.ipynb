{
  "cells": [
    {
      "cell_type": "code",
      "execution_count": 53,
      "metadata": {
        "id": "3NebyD0kmaoL"
      },
      "outputs": [],
      "source": [
        "import pandas as pd\n",
        "\n",
        "import matplotlib.pyplot as plt\n",
        "import seaborn as sns\n",
        "\n",
        "from sklearn.feature_extraction.text import CountVectorizer\n",
        "from nltk.corpus import stopwords\n",
        "from nltk.tokenize import word_tokenize\n",
        "from nltk.stem import SnowballStemmer\n",
        "from nltk.stem import WordNetLemmatizer\n",
        "import nltk\n",
        "import string\n",
        "from wordcloud import WordCloud\n",
        "from collections import Counter\n",
        "\n",
        "from sklearn.feature_extraction.text import CountVectorizer, TfidfVectorizer\n",
        "from sklearn.linear_model import LogisticRegression\n",
        "from sklearn.tree import DecisionTreeClassifier\n",
        "from sklearn.ensemble import RandomForestClassifier, GradientBoostingClassifier\n",
        "from sklearn.metrics import classification_report, accuracy_score, f1_score\n",
        "\n",
        "from tensorflow import keras\n",
        "from tensorflow.keras.callbacks import EarlyStopping\n",
        "from keras.models import Sequential\n",
        "from keras_preprocessing.sequence import pad_sequences\n",
        "from keras_preprocessing.text import Tokenizer\n",
        "from keras.layers import Dense, Embedding, LSTM, Dropout\n",
        "import keras_tuner as kt\n",
        "from keras.metrics import Accuracy\n",
        "from keras import utils\n",
        "from keras import callbacks\n",
        "from absl import logging"
      ]
    },
    {
      "cell_type": "code",
      "execution_count": 6,
      "metadata": {
        "id": "8rAwHkIXRkJK"
      },
      "outputs": [],
      "source": [
        "DATA_PATH_TRAIN = '../data/raw/train.csv'\n",
        "DATA_PATH_TEST  = '../data/raw/test.csv'"
      ]
    },
    {
      "cell_type": "markdown",
      "metadata": {
        "id": "UdbsZMAxtZEL"
      },
      "source": [
        "# Helper functions"
      ]
    },
    {
      "cell_type": "markdown",
      "metadata": {
        "id": "Zp_GCHvzRu7x"
      },
      "source": [
        "# Read data"
      ]
    },
    {
      "cell_type": "code",
      "execution_count": 7,
      "metadata": {
        "id": "wcj9-fQXRwcu"
      },
      "outputs": [],
      "source": [
        "df_train = pd.read_csv(DATA_PATH_TRAIN)\n",
        "df_test = pd.read_csv(DATA_PATH_TEST)"
      ]
    },
    {
      "cell_type": "code",
      "execution_count": 8,
      "metadata": {
        "colab": {
          "base_uri": "https://localhost:8080/",
          "height": 0
        },
        "id": "GBf2ak3IcUmd",
        "outputId": "886e8692-484d-4559-df72-e3f40a3038b8"
      },
      "outputs": [
        {
          "data": {
            "text/html": [
              "<div>\n",
              "<style scoped>\n",
              "    .dataframe tbody tr th:only-of-type {\n",
              "        vertical-align: middle;\n",
              "    }\n",
              "\n",
              "    .dataframe tbody tr th {\n",
              "        vertical-align: top;\n",
              "    }\n",
              "\n",
              "    .dataframe thead th {\n",
              "        text-align: right;\n",
              "    }\n",
              "</style>\n",
              "<table border=\"1\" class=\"dataframe\">\n",
              "  <thead>\n",
              "    <tr style=\"text-align: right;\">\n",
              "      <th></th>\n",
              "      <th>review</th>\n",
              "      <th>sentiment</th>\n",
              "    </tr>\n",
              "  </thead>\n",
              "  <tbody>\n",
              "    <tr>\n",
              "      <th>0</th>\n",
              "      <td>I caught this little gem totally by accident b...</td>\n",
              "      <td>positive</td>\n",
              "    </tr>\n",
              "    <tr>\n",
              "      <th>1</th>\n",
              "      <td>I can't believe that I let myself into this mo...</td>\n",
              "      <td>negative</td>\n",
              "    </tr>\n",
              "    <tr>\n",
              "      <th>2</th>\n",
              "      <td>*spoiler alert!* it just gets to me the nerve ...</td>\n",
              "      <td>negative</td>\n",
              "    </tr>\n",
              "    <tr>\n",
              "      <th>3</th>\n",
              "      <td>If there's one thing I've learnt from watching...</td>\n",
              "      <td>negative</td>\n",
              "    </tr>\n",
              "    <tr>\n",
              "      <th>4</th>\n",
              "      <td>I remember when this was in theaters, reviews ...</td>\n",
              "      <td>negative</td>\n",
              "    </tr>\n",
              "  </tbody>\n",
              "</table>\n",
              "</div>"
            ],
            "text/plain": [
              "                                              review sentiment\n",
              "0  I caught this little gem totally by accident b...  positive\n",
              "1  I can't believe that I let myself into this mo...  negative\n",
              "2  *spoiler alert!* it just gets to me the nerve ...  negative\n",
              "3  If there's one thing I've learnt from watching...  negative\n",
              "4  I remember when this was in theaters, reviews ...  negative"
            ]
          },
          "metadata": {},
          "output_type": "display_data"
        },
        {
          "data": {
            "text/html": [
              "<div>\n",
              "<style scoped>\n",
              "    .dataframe tbody tr th:only-of-type {\n",
              "        vertical-align: middle;\n",
              "    }\n",
              "\n",
              "    .dataframe tbody tr th {\n",
              "        vertical-align: top;\n",
              "    }\n",
              "\n",
              "    .dataframe thead th {\n",
              "        text-align: right;\n",
              "    }\n",
              "</style>\n",
              "<table border=\"1\" class=\"dataframe\">\n",
              "  <thead>\n",
              "    <tr style=\"text-align: right;\">\n",
              "      <th></th>\n",
              "      <th>review</th>\n",
              "      <th>sentiment</th>\n",
              "    </tr>\n",
              "  </thead>\n",
              "  <tbody>\n",
              "    <tr>\n",
              "      <th>0</th>\n",
              "      <td>Yes, MTV there really is a way to market Daria...</td>\n",
              "      <td>negative</td>\n",
              "    </tr>\n",
              "    <tr>\n",
              "      <th>1</th>\n",
              "      <td>The story of the bride fair is an amusing and ...</td>\n",
              "      <td>negative</td>\n",
              "    </tr>\n",
              "    <tr>\n",
              "      <th>2</th>\n",
              "      <td>A team varied between Scully and Mulder, two o...</td>\n",
              "      <td>positive</td>\n",
              "    </tr>\n",
              "    <tr>\n",
              "      <th>3</th>\n",
              "      <td>This was a popular movie probably because of t...</td>\n",
              "      <td>negative</td>\n",
              "    </tr>\n",
              "    <tr>\n",
              "      <th>4</th>\n",
              "      <td>This movie made me so angry!! Here I am thinki...</td>\n",
              "      <td>negative</td>\n",
              "    </tr>\n",
              "  </tbody>\n",
              "</table>\n",
              "</div>"
            ],
            "text/plain": [
              "                                              review sentiment\n",
              "0  Yes, MTV there really is a way to market Daria...  negative\n",
              "1  The story of the bride fair is an amusing and ...  negative\n",
              "2  A team varied between Scully and Mulder, two o...  positive\n",
              "3  This was a popular movie probably because of t...  negative\n",
              "4  This movie made me so angry!! Here I am thinki...  negative"
            ]
          },
          "metadata": {},
          "output_type": "display_data"
        }
      ],
      "source": [
        "display(df_train.head(), df_test.head())"
      ]
    },
    {
      "cell_type": "markdown",
      "metadata": {
        "id": "ou0AFh3sR_-I"
      },
      "source": [
        "# EDA"
      ]
    },
    {
      "cell_type": "code",
      "execution_count": 9,
      "metadata": {
        "colab": {
          "base_uri": "https://localhost:8080/"
        },
        "id": "0QPv2sxyR4eU",
        "outputId": "2a7d7318-34d6-4fb7-95f7-9ec7dccb9c03"
      },
      "outputs": [
        {
          "data": {
            "text/plain": [
              "((40000, 2), (10000, 2))"
            ]
          },
          "execution_count": 9,
          "metadata": {},
          "output_type": "execute_result"
        }
      ],
      "source": [
        "df_train.shape, df_test.shape"
      ]
    },
    {
      "cell_type": "code",
      "execution_count": 10,
      "metadata": {
        "colab": {
          "base_uri": "https://localhost:8080/"
        },
        "id": "psEElcaaSCR2",
        "outputId": "8aaa96dd-8b77-403a-b578-dfa950c69505"
      },
      "outputs": [
        {
          "name": "stdout",
          "output_type": "stream",
          "text": [
            "<class 'pandas.core.frame.DataFrame'>\n",
            "RangeIndex: 40000 entries, 0 to 39999\n",
            "Data columns (total 2 columns):\n",
            " #   Column     Non-Null Count  Dtype \n",
            "---  ------     --------------  ----- \n",
            " 0   review     40000 non-null  object\n",
            " 1   sentiment  40000 non-null  object\n",
            "dtypes: object(2)\n",
            "memory usage: 625.1+ KB\n"
          ]
        }
      ],
      "source": [
        "df_train.info()"
      ]
    },
    {
      "cell_type": "code",
      "execution_count": 11,
      "metadata": {
        "colab": {
          "base_uri": "https://localhost:8080/"
        },
        "id": "7SlVIpDaSDtA",
        "outputId": "7745f62c-fa39-4c4f-857a-7413d50b2727"
      },
      "outputs": [
        {
          "data": {
            "text/plain": [
              "array(['positive', 'negative'], dtype=object)"
            ]
          },
          "execution_count": 11,
          "metadata": {},
          "output_type": "execute_result"
        }
      ],
      "source": [
        "df_train.sentiment.unique()"
      ]
    },
    {
      "cell_type": "code",
      "execution_count": 12,
      "metadata": {
        "colab": {
          "base_uri": "https://localhost:8080/",
          "height": 178
        },
        "id": "-v4m4yR7SHkm",
        "outputId": "7907b0ee-a978-45dc-a7c0-bd1c64d8db22"
      },
      "outputs": [
        {
          "data": {
            "text/plain": [
              "sentiment\n",
              "positive    20000\n",
              "negative    20000\n",
              "Name: count, dtype: int64"
            ]
          },
          "execution_count": 12,
          "metadata": {},
          "output_type": "execute_result"
        }
      ],
      "source": [
        "df_train.sentiment.value_counts()"
      ]
    },
    {
      "cell_type": "code",
      "execution_count": 13,
      "metadata": {
        "colab": {
          "base_uri": "https://localhost:8080/",
          "height": 178
        },
        "id": "waKsxT3ycklh",
        "outputId": "373b6809-8cc1-46ee-ef0b-129db6ba1924"
      },
      "outputs": [
        {
          "data": {
            "text/plain": [
              "sentiment\n",
              "negative    5000\n",
              "positive    5000\n",
              "Name: count, dtype: int64"
            ]
          },
          "execution_count": 13,
          "metadata": {},
          "output_type": "execute_result"
        }
      ],
      "source": [
        "df_test.sentiment.value_counts()"
      ]
    },
    {
      "cell_type": "markdown",
      "metadata": {
        "id": "vJOKgfbPSO3h"
      },
      "source": [
        "## Check for duplicates"
      ]
    },
    {
      "cell_type": "code",
      "execution_count": 14,
      "metadata": {
        "colab": {
          "base_uri": "https://localhost:8080/",
          "height": 0
        },
        "id": "gsKnqqqFSK-M",
        "outputId": "c75c06b4-756a-49e6-97c0-9447ece76032"
      },
      "outputs": [
        {
          "data": {
            "text/plain": [
              "(272, 2)"
            ]
          },
          "metadata": {},
          "output_type": "display_data"
        },
        {
          "data": {
            "text/html": [
              "<div>\n",
              "<style scoped>\n",
              "    .dataframe tbody tr th:only-of-type {\n",
              "        vertical-align: middle;\n",
              "    }\n",
              "\n",
              "    .dataframe tbody tr th {\n",
              "        vertical-align: top;\n",
              "    }\n",
              "\n",
              "    .dataframe thead th {\n",
              "        text-align: right;\n",
              "    }\n",
              "</style>\n",
              "<table border=\"1\" class=\"dataframe\">\n",
              "  <thead>\n",
              "    <tr style=\"text-align: right;\">\n",
              "      <th></th>\n",
              "      <th>review</th>\n",
              "      <th>sentiment</th>\n",
              "    </tr>\n",
              "  </thead>\n",
              "  <tbody>\n",
              "    <tr>\n",
              "      <th>1700</th>\n",
              "      <td>There are plenty of comments already posted sa...</td>\n",
              "      <td>negative</td>\n",
              "    </tr>\n",
              "    <tr>\n",
              "      <th>2062</th>\n",
              "      <td>No one would ever question that director Leos ...</td>\n",
              "      <td>positive</td>\n",
              "    </tr>\n",
              "    <tr>\n",
              "      <th>2659</th>\n",
              "      <td>Well I guess I know the answer to that questio...</td>\n",
              "      <td>negative</td>\n",
              "    </tr>\n",
              "    <tr>\n",
              "      <th>3540</th>\n",
              "      <td>There's something frustrating about watching a...</td>\n",
              "      <td>negative</td>\n",
              "    </tr>\n",
              "    <tr>\n",
              "      <th>4176</th>\n",
              "      <td>Do we really need any more narcissistic garbag...</td>\n",
              "      <td>negative</td>\n",
              "    </tr>\n",
              "    <tr>\n",
              "      <th>...</th>\n",
              "      <td>...</td>\n",
              "      <td>...</td>\n",
              "    </tr>\n",
              "    <tr>\n",
              "      <th>39722</th>\n",
              "      <td>Yep, this has got to be one of the lamest movi...</td>\n",
              "      <td>negative</td>\n",
              "    </tr>\n",
              "    <tr>\n",
              "      <th>39738</th>\n",
              "      <td>Inappropriate. The PG rating that this movie g...</td>\n",
              "      <td>negative</td>\n",
              "    </tr>\n",
              "    <tr>\n",
              "      <th>39803</th>\n",
              "      <td>Les Visiteurs, the first movie about the medie...</td>\n",
              "      <td>negative</td>\n",
              "    </tr>\n",
              "    <tr>\n",
              "      <th>39926</th>\n",
              "      <td>This film is so bad and gets worse in every im...</td>\n",
              "      <td>negative</td>\n",
              "    </tr>\n",
              "    <tr>\n",
              "      <th>39938</th>\n",
              "      <td>This movie was NOTHING like the book. I think ...</td>\n",
              "      <td>negative</td>\n",
              "    </tr>\n",
              "  </tbody>\n",
              "</table>\n",
              "<p>272 rows × 2 columns</p>\n",
              "</div>"
            ],
            "text/plain": [
              "                                                  review sentiment\n",
              "1700   There are plenty of comments already posted sa...  negative\n",
              "2062   No one would ever question that director Leos ...  positive\n",
              "2659   Well I guess I know the answer to that questio...  negative\n",
              "3540   There's something frustrating about watching a...  negative\n",
              "4176   Do we really need any more narcissistic garbag...  negative\n",
              "...                                                  ...       ...\n",
              "39722  Yep, this has got to be one of the lamest movi...  negative\n",
              "39738  Inappropriate. The PG rating that this movie g...  negative\n",
              "39803  Les Visiteurs, the first movie about the medie...  negative\n",
              "39926  This film is so bad and gets worse in every im...  negative\n",
              "39938  This movie was NOTHING like the book. I think ...  negative\n",
              "\n",
              "[272 rows x 2 columns]"
            ]
          },
          "metadata": {},
          "output_type": "display_data"
        },
        {
          "data": {
            "text/plain": [
              "(13, 2)"
            ]
          },
          "metadata": {},
          "output_type": "display_data"
        },
        {
          "data": {
            "text/html": [
              "<div>\n",
              "<style scoped>\n",
              "    .dataframe tbody tr th:only-of-type {\n",
              "        vertical-align: middle;\n",
              "    }\n",
              "\n",
              "    .dataframe tbody tr th {\n",
              "        vertical-align: top;\n",
              "    }\n",
              "\n",
              "    .dataframe thead th {\n",
              "        text-align: right;\n",
              "    }\n",
              "</style>\n",
              "<table border=\"1\" class=\"dataframe\">\n",
              "  <thead>\n",
              "    <tr style=\"text-align: right;\">\n",
              "      <th></th>\n",
              "      <th>review</th>\n",
              "      <th>sentiment</th>\n",
              "    </tr>\n",
              "  </thead>\n",
              "  <tbody>\n",
              "    <tr>\n",
              "      <th>1899</th>\n",
              "      <td>The scenes are fast-paced. the characters are ...</td>\n",
              "      <td>positive</td>\n",
              "    </tr>\n",
              "    <tr>\n",
              "      <th>2964</th>\n",
              "      <td>I've tried to reconcile why so many bad review...</td>\n",
              "      <td>positive</td>\n",
              "    </tr>\n",
              "    <tr>\n",
              "      <th>3068</th>\n",
              "      <td>What a clunker!&lt;br /&gt;&lt;br /&gt;It MUST have been m...</td>\n",
              "      <td>negative</td>\n",
              "    </tr>\n",
              "    <tr>\n",
              "      <th>3266</th>\n",
              "      <td>The daytime TV of films. Seldom have I felt so...</td>\n",
              "      <td>negative</td>\n",
              "    </tr>\n",
              "    <tr>\n",
              "      <th>4624</th>\n",
              "      <td>Pretentious claptrap, updating Herman Melville...</td>\n",
              "      <td>negative</td>\n",
              "    </tr>\n",
              "    <tr>\n",
              "      <th>6026</th>\n",
              "      <td>well, the writing was very sloppy, the directi...</td>\n",
              "      <td>negative</td>\n",
              "    </tr>\n",
              "    <tr>\n",
              "      <th>6990</th>\n",
              "      <td>Hilarious, clean, light-hearted, and quote-wor...</td>\n",
              "      <td>positive</td>\n",
              "    </tr>\n",
              "    <tr>\n",
              "      <th>7524</th>\n",
              "      <td>What can I say? An excellent end to an excelle...</td>\n",
              "      <td>positive</td>\n",
              "    </tr>\n",
              "    <tr>\n",
              "      <th>8167</th>\n",
              "      <td>What a shocker. For starters, I couldn't stand...</td>\n",
              "      <td>negative</td>\n",
              "    </tr>\n",
              "    <tr>\n",
              "      <th>8911</th>\n",
              "      <td>Since I am required to write minimum of 10 lin...</td>\n",
              "      <td>negative</td>\n",
              "    </tr>\n",
              "    <tr>\n",
              "      <th>9126</th>\n",
              "      <td>This is one of the best presentations of the 6...</td>\n",
              "      <td>positive</td>\n",
              "    </tr>\n",
              "    <tr>\n",
              "      <th>9206</th>\n",
              "      <td>I watched this movie when Joe Bob Briggs hoste...</td>\n",
              "      <td>negative</td>\n",
              "    </tr>\n",
              "    <tr>\n",
              "      <th>9788</th>\n",
              "      <td>These writers are trying to re-create the char...</td>\n",
              "      <td>negative</td>\n",
              "    </tr>\n",
              "  </tbody>\n",
              "</table>\n",
              "</div>"
            ],
            "text/plain": [
              "                                                 review sentiment\n",
              "1899  The scenes are fast-paced. the characters are ...  positive\n",
              "2964  I've tried to reconcile why so many bad review...  positive\n",
              "3068  What a clunker!<br /><br />It MUST have been m...  negative\n",
              "3266  The daytime TV of films. Seldom have I felt so...  negative\n",
              "4624  Pretentious claptrap, updating Herman Melville...  negative\n",
              "6026  well, the writing was very sloppy, the directi...  negative\n",
              "6990  Hilarious, clean, light-hearted, and quote-wor...  positive\n",
              "7524  What can I say? An excellent end to an excelle...  positive\n",
              "8167  What a shocker. For starters, I couldn't stand...  negative\n",
              "8911  Since I am required to write minimum of 10 lin...  negative\n",
              "9126  This is one of the best presentations of the 6...  positive\n",
              "9206  I watched this movie when Joe Bob Briggs hoste...  negative\n",
              "9788  These writers are trying to re-create the char...  negative"
            ]
          },
          "metadata": {},
          "output_type": "display_data"
        }
      ],
      "source": [
        "duplicated_df_train = df_train[df_train.duplicated()]\n",
        "duplicated_df_test  = df_test[df_test.duplicated()]\n",
        "display(duplicated_df_train.shape, duplicated_df_train, duplicated_df_test.shape, duplicated_df_test)"
      ]
    },
    {
      "cell_type": "markdown",
      "metadata": {
        "id": "5TOGkfG5TIFz"
      },
      "source": [
        "There are some duplicates in train and test data, I'll delete them."
      ]
    },
    {
      "cell_type": "code",
      "execution_count": 15,
      "metadata": {
        "id": "cYhbvd6yAT--"
      },
      "outputs": [],
      "source": [
        "df_train = df_train.drop_duplicates()\n",
        "df_test  = df_test.drop_duplicates()"
      ]
    },
    {
      "cell_type": "code",
      "execution_count": 16,
      "metadata": {
        "colab": {
          "base_uri": "https://localhost:8080/"
        },
        "id": "poRWr-LqAeEH",
        "outputId": "42017b0f-c90b-4679-ede5-0f6fd574225b"
      },
      "outputs": [
        {
          "data": {
            "text/plain": [
              "((39728, 2), (9987, 2))"
            ]
          },
          "execution_count": 16,
          "metadata": {},
          "output_type": "execute_result"
        }
      ],
      "source": [
        "df_train.shape, df_test.shape"
      ]
    },
    {
      "cell_type": "markdown",
      "metadata": {
        "id": "caXYBkvbTeSY"
      },
      "source": [
        "## Check missing values"
      ]
    },
    {
      "cell_type": "code",
      "execution_count": 17,
      "metadata": {
        "colab": {
          "base_uri": "https://localhost:8080/",
          "height": 0
        },
        "id": "DKJl06c6cDOT",
        "outputId": "4a2a6585-7c9f-4848-fff9-e03682116b39"
      },
      "outputs": [
        {
          "data": {
            "text/plain": [
              "review       0\n",
              "sentiment    0\n",
              "dtype: int64"
            ]
          },
          "execution_count": 17,
          "metadata": {},
          "output_type": "execute_result"
        }
      ],
      "source": [
        "df_train.isna().sum()"
      ]
    },
    {
      "cell_type": "code",
      "execution_count": 18,
      "metadata": {
        "colab": {
          "base_uri": "https://localhost:8080/",
          "height": 0
        },
        "id": "edyn7R0tcLS6",
        "outputId": "bea24b28-e66f-4162-8dac-0805b7cc796f"
      },
      "outputs": [
        {
          "data": {
            "text/plain": [
              "review       0\n",
              "sentiment    0\n",
              "dtype: int64"
            ]
          },
          "execution_count": 18,
          "metadata": {},
          "output_type": "execute_result"
        }
      ],
      "source": [
        "df_test.isna().sum()"
      ]
    },
    {
      "cell_type": "markdown",
      "metadata": {
        "id": "7eOvu2T5dLTR"
      },
      "source": [
        "There are no missing values in both sets."
      ]
    },
    {
      "cell_type": "markdown",
      "metadata": {
        "id": "4-HNRAWVdPcw"
      },
      "source": [
        "## Sentiment Distribution Analysis"
      ]
    },
    {
      "cell_type": "code",
      "execution_count": 19,
      "metadata": {
        "colab": {
          "base_uri": "https://localhost:8080/",
          "height": 410
        },
        "id": "PNCasOWwdc23",
        "outputId": "7e6718f2-b9c4-467f-b1d6-d9572b4faee1"
      },
      "outputs": [
        {
          "data": {
            "image/png": "[encoded data removed]",
            "text/plain": [
              "<Figure size 500x400 with 1 Axes>"
            ]
          },
          "metadata": {},
          "output_type": "display_data"
        }
      ],
      "source": [
        "# Plotting the sentiment distribution\n",
        "\n",
        "plt.figure(figsize = (5, 4))\n",
        "ax = sns.countplot(x = 'sentiment', data = df_train, order = df_train['sentiment'].value_counts().index)\n",
        "plt.title('Class Distribution of Sentiment Labels')\n",
        "plt.xlabel('Sentiment')\n",
        "plt.ylabel('Count')\n",
        "\n",
        "total = len(df_train)\n",
        "for p in ax.patches:\n",
        "    percentage = f'{100 * p.get_height() / total:.1f}%'\n",
        "    ax.annotate(percentage,\n",
        "                (p.get_x() + p.get_width()/2., p.get_height()),\n",
        "                ha = 'center', va = 'bottom')\n",
        "plt.show()"
      ]
    },
    {
      "cell_type": "markdown",
      "metadata": {
        "id": "KUIEzMMGeQsr"
      },
      "source": [
        " The dataset contains an almost equal distribution between positive and negative sentiments."
      ]
    },
    {
      "cell_type": "code",
      "execution_count": 20,
      "metadata": {
        "colab": {
          "base_uri": "https://localhost:8080/",
          "height": 496
        },
        "id": "ahyOJcbWgbRY",
        "outputId": "a80170da-2e60-4708-e9da-290af6719273"
      },
      "outputs": [
        {
          "data": {
            "text/plain": [
              "sentiment\n",
              "positive    19923\n",
              "negative    19805\n",
              "Name: count, dtype: int64"
            ]
          },
          "metadata": {},
          "output_type": "display_data"
        },
        {
          "data": {
            "text/plain": [
              "count    39728.000000\n",
              "mean      1311.359469\n",
              "std        988.798970\n",
              "min         41.000000\n",
              "25%        699.000000\n",
              "50%        971.500000\n",
              "75%       1596.000000\n",
              "max      13704.000000\n",
              "Name: text_length, dtype: float64"
            ]
          },
          "metadata": {},
          "output_type": "display_data"
        }
      ],
      "source": [
        "# Displaying class distribution and summary of text length\n",
        "\n",
        "df_train['text_length'] = df_train['review'].apply(len)\n",
        "display(df_train['sentiment'].value_counts(), df_train['text_length'].describe())"
      ]
    },
    {
      "cell_type": "code",
      "execution_count": 21,
      "metadata": {
        "colab": {
          "base_uri": "https://localhost:8080/",
          "height": 487
        },
        "id": "f4q2-iOedpNs",
        "outputId": "8a8b2267-4bc1-4471-fbc5-d9f07a7bfe67"
      },
      "outputs": [
        {
          "data": {
            "image/png": "[encoded data removed]",
            "text/plain": [
              "<Figure size 800x500 with 1 Axes>"
            ]
          },
          "metadata": {},
          "output_type": "display_data"
        }
      ],
      "source": [
        "# Plotting the distribution of text lengths\n",
        "\n",
        "plt.figure(figsize = (8, 5))\n",
        "sns.histplot(df_train['text_length'], bins = 30, kde = True)\n",
        "plt.title('Distribution of Text Lengths')\n",
        "plt.xlabel('Text Length (in characters)')\n",
        "plt.ylabel('Frequency')\n",
        "plt.show()"
      ]
    },
    {
      "cell_type": "markdown",
      "metadata": {
        "id": "PPMtwQbKgTzr"
      },
      "source": [
        "Most texts fall within the range of 700 to 1500 characters, with the average length being 1311 characters."
      ]
    },
    {
      "cell_type": "markdown",
      "metadata": {
        "id": "-_XJ_3mhg2N2"
      },
      "source": [
        "**Summary of Key Insights:**\n",
        "\n",
        "1. Sentiment Class Distribution:\n",
        "  - There are almost the same number of positive and negative labels.\n",
        "2. Text Length Distribution:\n",
        "  - The average length of texts is about 1311 characters.\n",
        "  - The most common text lengths range between 700 and 1500 characters, with a drop off towards the end of the distribution.\n",
        "  - The maximum length of texts in the data set is 13704 characters."
      ]
    },
    {
      "cell_type": "markdown",
      "metadata": {
        "id": "5vQteD9nhPYI"
      },
      "source": [
        "# Processing Text Data"
      ]
    },
    {
      "cell_type": "markdown",
      "metadata": {
        "id": "dPhAo29smMra"
      },
      "source": [
        "## Text cleaning"
      ]
    },
    {
      "cell_type": "code",
      "execution_count": 22,
      "metadata": {
        "id": "M81iXIBCnGl4"
      },
      "outputs": [],
      "source": [
        "df_train_processed = df_train.copy()"
      ]
    },
    {
      "cell_type": "code",
      "execution_count": 23,
      "metadata": {
        "id": "RkDFvjumhSOw"
      },
      "outputs": [],
      "source": [
        "df_train_processed.drop('text_length', axis = 1, inplace = True)\n",
        "\n",
        "# Converting to lowercase\n",
        "df_train_processed = df_train_processed.map(lambda x: x.lower() if isinstance(x, str) else x)"
      ]
    },
    {
      "cell_type": "code",
      "execution_count": 24,
      "metadata": {
        "colab": {
          "base_uri": "https://localhost:8080/",
          "height": 206
        },
        "id": "qY1ej8FRmh1a",
        "outputId": "f94ddd9c-764f-4b26-83bc-a01ee7fe4478"
      },
      "outputs": [
        {
          "data": {
            "text/html": [
              "<div>\n",
              "<style scoped>\n",
              "    .dataframe tbody tr th:only-of-type {\n",
              "        vertical-align: middle;\n",
              "    }\n",
              "\n",
              "    .dataframe tbody tr th {\n",
              "        vertical-align: top;\n",
              "    }\n",
              "\n",
              "    .dataframe thead th {\n",
              "        text-align: right;\n",
              "    }\n",
              "</style>\n",
              "<table border=\"1\" class=\"dataframe\">\n",
              "  <thead>\n",
              "    <tr style=\"text-align: right;\">\n",
              "      <th></th>\n",
              "      <th>review</th>\n",
              "      <th>sentiment</th>\n",
              "    </tr>\n",
              "  </thead>\n",
              "  <tbody>\n",
              "    <tr>\n",
              "      <th>0</th>\n",
              "      <td>i caught this little gem totally by accident b...</td>\n",
              "      <td>positive</td>\n",
              "    </tr>\n",
              "    <tr>\n",
              "      <th>1</th>\n",
              "      <td>i can't believe that i let myself into this mo...</td>\n",
              "      <td>negative</td>\n",
              "    </tr>\n",
              "    <tr>\n",
              "      <th>2</th>\n",
              "      <td>*spoiler alert!* it just gets to me the nerve ...</td>\n",
              "      <td>negative</td>\n",
              "    </tr>\n",
              "    <tr>\n",
              "      <th>3</th>\n",
              "      <td>if there's one thing i've learnt from watching...</td>\n",
              "      <td>negative</td>\n",
              "    </tr>\n",
              "    <tr>\n",
              "      <th>4</th>\n",
              "      <td>i remember when this was in theaters, reviews ...</td>\n",
              "      <td>negative</td>\n",
              "    </tr>\n",
              "  </tbody>\n",
              "</table>\n",
              "</div>"
            ],
            "text/plain": [
              "                                              review sentiment\n",
              "0  i caught this little gem totally by accident b...  positive\n",
              "1  i can't believe that i let myself into this mo...  negative\n",
              "2  *spoiler alert!* it just gets to me the nerve ...  negative\n",
              "3  if there's one thing i've learnt from watching...  negative\n",
              "4  i remember when this was in theaters, reviews ...  negative"
            ]
          },
          "execution_count": 24,
          "metadata": {},
          "output_type": "execute_result"
        }
      ],
      "source": [
        "df_train_processed.head()"
      ]
    },
    {
      "cell_type": "code",
      "execution_count": 25,
      "metadata": {
        "id": "lvpj0cjmmjWD"
      },
      "outputs": [],
      "source": [
        "# Removing remove non-word and non-whitespace characters\n",
        "df_train_processed = df_train_processed.replace(to_replace = r'[^\\w\\s]', value = '', regex = True)"
      ]
    },
    {
      "cell_type": "code",
      "execution_count": 26,
      "metadata": {
        "colab": {
          "base_uri": "https://localhost:8080/",
          "height": 206
        },
        "id": "uRowihAFnlKU",
        "outputId": "c4990225-030b-4e8f-ed20-1310733537ae"
      },
      "outputs": [
        {
          "data": {
            "text/html": [
              "<div>\n",
              "<style scoped>\n",
              "    .dataframe tbody tr th:only-of-type {\n",
              "        vertical-align: middle;\n",
              "    }\n",
              "\n",
              "    .dataframe tbody tr th {\n",
              "        vertical-align: top;\n",
              "    }\n",
              "\n",
              "    .dataframe thead th {\n",
              "        text-align: right;\n",
              "    }\n",
              "</style>\n",
              "<table border=\"1\" class=\"dataframe\">\n",
              "  <thead>\n",
              "    <tr style=\"text-align: right;\">\n",
              "      <th></th>\n",
              "      <th>review</th>\n",
              "      <th>sentiment</th>\n",
              "    </tr>\n",
              "  </thead>\n",
              "  <tbody>\n",
              "    <tr>\n",
              "      <th>0</th>\n",
              "      <td>i caught this little gem totally by accident b...</td>\n",
              "      <td>positive</td>\n",
              "    </tr>\n",
              "    <tr>\n",
              "      <th>1</th>\n",
              "      <td>i cant believe that i let myself into this mov...</td>\n",
              "      <td>negative</td>\n",
              "    </tr>\n",
              "    <tr>\n",
              "      <th>2</th>\n",
              "      <td>spoiler alert it just gets to me the nerve som...</td>\n",
              "      <td>negative</td>\n",
              "    </tr>\n",
              "    <tr>\n",
              "      <th>3</th>\n",
              "      <td>if theres one thing ive learnt from watching g...</td>\n",
              "      <td>negative</td>\n",
              "    </tr>\n",
              "    <tr>\n",
              "      <th>4</th>\n",
              "      <td>i remember when this was in theaters reviews s...</td>\n",
              "      <td>negative</td>\n",
              "    </tr>\n",
              "  </tbody>\n",
              "</table>\n",
              "</div>"
            ],
            "text/plain": [
              "                                              review sentiment\n",
              "0  i caught this little gem totally by accident b...  positive\n",
              "1  i cant believe that i let myself into this mov...  negative\n",
              "2  spoiler alert it just gets to me the nerve som...  negative\n",
              "3  if theres one thing ive learnt from watching g...  negative\n",
              "4  i remember when this was in theaters reviews s...  negative"
            ]
          },
          "execution_count": 26,
          "metadata": {},
          "output_type": "execute_result"
        }
      ],
      "source": [
        "df_train_processed.head()"
      ]
    },
    {
      "cell_type": "code",
      "execution_count": 27,
      "metadata": {
        "id": "b8dDkkJ7nmJb"
      },
      "outputs": [],
      "source": [
        "# Removing digits\n",
        "df_train_processed = df_train_processed.replace(to_replace = r'\\d', value = '', regex = True)"
      ]
    },
    {
      "cell_type": "markdown",
      "metadata": {
        "id": "evubacO4n59P"
      },
      "source": [
        "## Tokenization"
      ]
    },
    {
      "cell_type": "code",
      "execution_count": 33,
      "metadata": {
        "colab": {
          "base_uri": "https://localhost:8080/",
          "height": 738
        },
        "id": "QUUXQVDJnyDi",
        "outputId": "bb8af8b5-dab0-42cf-f7ef-7f9fe9d11951"
      },
      "outputs": [
        {
          "name": "stderr",
          "output_type": "stream",
          "text": [
            "[nltk_data] Downloading package punkt to\n",
            "[nltk_data]     C:\\Users\\LENOVO\\AppData\\Roaming\\nltk_data...\n",
            "[nltk_data]   Package punkt is already up-to-date!\n",
            "[nltk_data] Downloading package wordnet to\n",
            "[nltk_data]     C:\\Users\\LENOVO\\AppData\\Roaming\\nltk_data...\n",
            "[nltk_data] Downloading package stopwords to\n",
            "[nltk_data]     C:\\Users\\LENOVO\\AppData\\Roaming\\nltk_data...\n",
            "[nltk_data]   Unzipping corpora\\stopwords.zip.\n",
            "[nltk_data] Downloading package punkt_tab to\n",
            "[nltk_data]     C:\\Users\\LENOVO\\AppData\\Roaming\\nltk_data...\n",
            "[nltk_data]   Package punkt_tab is already up-to-date!\n"
          ]
        },
        {
          "data": {
            "text/plain": [
              "True"
            ]
          },
          "execution_count": 33,
          "metadata": {},
          "output_type": "execute_result"
        }
      ],
      "source": [
        "# Download necessary resources for tokenization and stopwords\n",
        "nltk.download('punkt')\n",
        "nltk.download('wordnet')\n",
        "nltk.download('stopwords')\n",
        "nltk.download('punkt_tab')"
      ]
    },
    {
      "cell_type": "code",
      "execution_count": 30,
      "metadata": {
        "id": "lS3f9x_doRbR"
      },
      "outputs": [],
      "source": [
        "# Apply tokenization\n",
        "df_train_processed['review'] = df_train_processed['review'].apply(word_tokenize)"
      ]
    },
    {
      "cell_type": "code",
      "execution_count": 32,
      "metadata": {},
      "outputs": [
        {
          "data": {
            "text/html": [
              "<div>\n",
              "<style scoped>\n",
              "    .dataframe tbody tr th:only-of-type {\n",
              "        vertical-align: middle;\n",
              "    }\n",
              "\n",
              "    .dataframe tbody tr th {\n",
              "        vertical-align: top;\n",
              "    }\n",
              "\n",
              "    .dataframe thead th {\n",
              "        text-align: right;\n",
              "    }\n",
              "</style>\n",
              "<table border=\"1\" class=\"dataframe\">\n",
              "  <thead>\n",
              "    <tr style=\"text-align: right;\">\n",
              "      <th></th>\n",
              "      <th>review</th>\n",
              "      <th>sentiment</th>\n",
              "    </tr>\n",
              "  </thead>\n",
              "  <tbody>\n",
              "    <tr>\n",
              "      <th>0</th>\n",
              "      <td>[i, caught, this, little, gem, totally, by, ac...</td>\n",
              "      <td>positive</td>\n",
              "    </tr>\n",
              "    <tr>\n",
              "      <th>1</th>\n",
              "      <td>[i, cant, believe, that, i, let, myself, into,...</td>\n",
              "      <td>negative</td>\n",
              "    </tr>\n",
              "    <tr>\n",
              "      <th>2</th>\n",
              "      <td>[spoiler, alert, it, just, gets, to, me, the, ...</td>\n",
              "      <td>negative</td>\n",
              "    </tr>\n",
              "    <tr>\n",
              "      <th>3</th>\n",
              "      <td>[if, theres, one, thing, ive, learnt, from, wa...</td>\n",
              "      <td>negative</td>\n",
              "    </tr>\n",
              "    <tr>\n",
              "      <th>4</th>\n",
              "      <td>[i, remember, when, this, was, in, theaters, r...</td>\n",
              "      <td>negative</td>\n",
              "    </tr>\n",
              "  </tbody>\n",
              "</table>\n",
              "</div>"
            ],
            "text/plain": [
              "                                              review sentiment\n",
              "0  [i, caught, this, little, gem, totally, by, ac...  positive\n",
              "1  [i, cant, believe, that, i, let, myself, into,...  negative\n",
              "2  [spoiler, alert, it, just, gets, to, me, the, ...  negative\n",
              "3  [if, theres, one, thing, ive, learnt, from, wa...  negative\n",
              "4  [i, remember, when, this, was, in, theaters, r...  negative"
            ]
          },
          "execution_count": 32,
          "metadata": {},
          "output_type": "execute_result"
        }
      ],
      "source": [
        "df_train_processed.head()"
      ]
    },
    {
      "cell_type": "markdown",
      "metadata": {},
      "source": [
        "## Stopword Removal"
      ]
    },
    {
      "cell_type": "code",
      "execution_count": 34,
      "metadata": {},
      "outputs": [],
      "source": [
        "stop_words = set(stopwords.words('english'))\n",
        "df_train_processed['review'] = df_train_processed['review'].apply(lambda x: [word for word in x if word not in stop_words])"
      ]
    },
    {
      "cell_type": "code",
      "execution_count": 35,
      "metadata": {},
      "outputs": [
        {
          "data": {
            "text/html": [
              "<div>\n",
              "<style scoped>\n",
              "    .dataframe tbody tr th:only-of-type {\n",
              "        vertical-align: middle;\n",
              "    }\n",
              "\n",
              "    .dataframe tbody tr th {\n",
              "        vertical-align: top;\n",
              "    }\n",
              "\n",
              "    .dataframe thead th {\n",
              "        text-align: right;\n",
              "    }\n",
              "</style>\n",
              "<table border=\"1\" class=\"dataframe\">\n",
              "  <thead>\n",
              "    <tr style=\"text-align: right;\">\n",
              "      <th></th>\n",
              "      <th>review</th>\n",
              "      <th>sentiment</th>\n",
              "    </tr>\n",
              "  </thead>\n",
              "  <tbody>\n",
              "    <tr>\n",
              "      <th>0</th>\n",
              "      <td>[caught, little, gem, totally, accident, back,...</td>\n",
              "      <td>positive</td>\n",
              "    </tr>\n",
              "    <tr>\n",
              "      <th>1</th>\n",
              "      <td>[cant, believe, let, movie, accomplish, favor,...</td>\n",
              "      <td>negative</td>\n",
              "    </tr>\n",
              "    <tr>\n",
              "      <th>2</th>\n",
              "      <td>[spoiler, alert, gets, nerve, people, remake, ...</td>\n",
              "      <td>negative</td>\n",
              "    </tr>\n",
              "    <tr>\n",
              "      <th>3</th>\n",
              "      <td>[theres, one, thing, ive, learnt, watching, ge...</td>\n",
              "      <td>negative</td>\n",
              "    </tr>\n",
              "    <tr>\n",
              "      <th>4</th>\n",
              "      <td>[remember, theaters, reviews, said, horrible, ...</td>\n",
              "      <td>negative</td>\n",
              "    </tr>\n",
              "    <tr>\n",
              "      <th>...</th>\n",
              "      <td>...</td>\n",
              "      <td>...</td>\n",
              "    </tr>\n",
              "    <tr>\n",
              "      <th>39995</th>\n",
              "      <td>[man, named, walt, disney, mission, satisfy, f...</td>\n",
              "      <td>positive</td>\n",
              "    </tr>\n",
              "    <tr>\n",
              "      <th>39996</th>\n",
              "      <td>[first, time, saw, shades, sneakpreview, hadnt...</td>\n",
              "      <td>negative</td>\n",
              "    </tr>\n",
              "    <tr>\n",
              "      <th>39997</th>\n",
              "      <td>[waste, time, danger, watch, tempted, tear, dv...</td>\n",
              "      <td>negative</td>\n",
              "    </tr>\n",
              "    <tr>\n",
              "      <th>39998</th>\n",
              "      <td>[far, pathetic, movie, indian, cinema, cinema,...</td>\n",
              "      <td>negative</td>\n",
              "    </tr>\n",
              "    <tr>\n",
              "      <th>39999</th>\n",
              "      <td>[movie, forever, left, impression, watched, fr...</td>\n",
              "      <td>negative</td>\n",
              "    </tr>\n",
              "  </tbody>\n",
              "</table>\n",
              "<p>39728 rows × 2 columns</p>\n",
              "</div>"
            ],
            "text/plain": [
              "                                                  review sentiment\n",
              "0      [caught, little, gem, totally, accident, back,...  positive\n",
              "1      [cant, believe, let, movie, accomplish, favor,...  negative\n",
              "2      [spoiler, alert, gets, nerve, people, remake, ...  negative\n",
              "3      [theres, one, thing, ive, learnt, watching, ge...  negative\n",
              "4      [remember, theaters, reviews, said, horrible, ...  negative\n",
              "...                                                  ...       ...\n",
              "39995  [man, named, walt, disney, mission, satisfy, f...  positive\n",
              "39996  [first, time, saw, shades, sneakpreview, hadnt...  negative\n",
              "39997  [waste, time, danger, watch, tempted, tear, dv...  negative\n",
              "39998  [far, pathetic, movie, indian, cinema, cinema,...  negative\n",
              "39999  [movie, forever, left, impression, watched, fr...  negative\n",
              "\n",
              "[39728 rows x 2 columns]"
            ]
          },
          "execution_count": 35,
          "metadata": {},
          "output_type": "execute_result"
        }
      ],
      "source": [
        "df_train_processed"
      ]
    },
    {
      "cell_type": "markdown",
      "metadata": {},
      "source": [
        "## Stemming and Lemmatization"
      ]
    },
    {
      "cell_type": "markdown",
      "metadata": {},
      "source": [
        "Stemming is a simple and practical approach that involves cutting off the ends of words with the intention of obtaining the correct root form.\n",
        "Lemmatization aims to remove inflectional endings only and to return the base or dictionary form of a word, which is known as 'lemma'. "
      ]
    },
    {
      "cell_type": "code",
      "execution_count": 36,
      "metadata": {},
      "outputs": [],
      "source": [
        "# Initialize the Snowball Stemmer\n",
        "stemmer = SnowballStemmer('english')\n",
        "\n",
        "# Define a function to perform stemming on the 'review' column\n",
        "def stem_words(words):\n",
        "    return [stemmer.stem(word) for word in words]\n",
        "\n",
        "# Apply the function to the 'review' column and create a new column 'stemmed_review'\n",
        "df_train_processed['stemmed_review'] = df_train_processed['review'].apply(stem_words)"
      ]
    },
    {
      "cell_type": "code",
      "execution_count": 38,
      "metadata": {},
      "outputs": [],
      "source": [
        "# Initialize the lemmatizer\n",
        "lemmatizer = WordNetLemmatizer()\n",
        "\n",
        "# Define a function to perform lemmatization on the 'review' column\n",
        "def lem_words(words):\n",
        "    return [lemmatizer.lemmatize(word) for word in words]\n",
        "\n",
        "# Apply the function to the 'review' column and create a new column 'lemmatized_review'\n",
        "df_train_processed['lemmatized_review'] = df_train_processed['review'].apply(lem_words)"
      ]
    },
    {
      "cell_type": "code",
      "execution_count": 39,
      "metadata": {},
      "outputs": [
        {
          "data": {
            "text/html": [
              "<div>\n",
              "<style scoped>\n",
              "    .dataframe tbody tr th:only-of-type {\n",
              "        vertical-align: middle;\n",
              "    }\n",
              "\n",
              "    .dataframe tbody tr th {\n",
              "        vertical-align: top;\n",
              "    }\n",
              "\n",
              "    .dataframe thead th {\n",
              "        text-align: right;\n",
              "    }\n",
              "</style>\n",
              "<table border=\"1\" class=\"dataframe\">\n",
              "  <thead>\n",
              "    <tr style=\"text-align: right;\">\n",
              "      <th></th>\n",
              "      <th>review</th>\n",
              "      <th>sentiment</th>\n",
              "      <th>stemmed_review</th>\n",
              "      <th>lemmatized_review</th>\n",
              "    </tr>\n",
              "  </thead>\n",
              "  <tbody>\n",
              "    <tr>\n",
              "      <th>0</th>\n",
              "      <td>[caught, little, gem, totally, accident, back,...</td>\n",
              "      <td>positive</td>\n",
              "      <td>[caught, littl, gem, total, accid, back, reviv...</td>\n",
              "      <td>[caught, little, gem, totally, accident, back,...</td>\n",
              "    </tr>\n",
              "    <tr>\n",
              "      <th>1</th>\n",
              "      <td>[cant, believe, let, movie, accomplish, favor,...</td>\n",
              "      <td>negative</td>\n",
              "      <td>[cant, believ, let, movi, accomplish, favor, f...</td>\n",
              "      <td>[cant, believe, let, movie, accomplish, favor,...</td>\n",
              "    </tr>\n",
              "    <tr>\n",
              "      <th>2</th>\n",
              "      <td>[spoiler, alert, gets, nerve, people, remake, ...</td>\n",
              "      <td>negative</td>\n",
              "      <td>[spoiler, alert, get, nerv, peopl, remak, use,...</td>\n",
              "      <td>[spoiler, alert, get, nerve, people, remake, u...</td>\n",
              "    </tr>\n",
              "    <tr>\n",
              "      <th>3</th>\n",
              "      <td>[theres, one, thing, ive, learnt, watching, ge...</td>\n",
              "      <td>negative</td>\n",
              "      <td>[there, one, thing, ive, learnt, watch, georg,...</td>\n",
              "      <td>[there, one, thing, ive, learnt, watching, geo...</td>\n",
              "    </tr>\n",
              "    <tr>\n",
              "      <th>4</th>\n",
              "      <td>[remember, theaters, reviews, said, horrible, ...</td>\n",
              "      <td>negative</td>\n",
              "      <td>[rememb, theater, review, said, horribl, well,...</td>\n",
              "      <td>[remember, theater, review, said, horrible, we...</td>\n",
              "    </tr>\n",
              "    <tr>\n",
              "      <th>...</th>\n",
              "      <td>...</td>\n",
              "      <td>...</td>\n",
              "      <td>...</td>\n",
              "      <td>...</td>\n",
              "    </tr>\n",
              "    <tr>\n",
              "      <th>39995</th>\n",
              "      <td>[man, named, walt, disney, mission, satisfy, f...</td>\n",
              "      <td>positive</td>\n",
              "      <td>[man, name, walt, disney, mission, satisfi, fa...</td>\n",
              "      <td>[man, named, walt, disney, mission, satisfy, f...</td>\n",
              "    </tr>\n",
              "    <tr>\n",
              "      <th>39996</th>\n",
              "      <td>[first, time, saw, shades, sneakpreview, hadnt...</td>\n",
              "      <td>negative</td>\n",
              "      <td>[first, time, saw, shade, sneakpreview, hadnt,...</td>\n",
              "      <td>[first, time, saw, shade, sneakpreview, hadnt,...</td>\n",
              "    </tr>\n",
              "    <tr>\n",
              "      <th>39997</th>\n",
              "      <td>[waste, time, danger, watch, tempted, tear, dv...</td>\n",
              "      <td>negative</td>\n",
              "      <td>[wast, time, danger, watch, tempt, tear, dvd, ...</td>\n",
              "      <td>[waste, time, danger, watch, tempted, tear, dv...</td>\n",
              "    </tr>\n",
              "    <tr>\n",
              "      <th>39998</th>\n",
              "      <td>[far, pathetic, movie, indian, cinema, cinema,...</td>\n",
              "      <td>negative</td>\n",
              "      <td>[far, pathet, movi, indian, cinema, cinema, co...</td>\n",
              "      <td>[far, pathetic, movie, indian, cinema, cinema,...</td>\n",
              "    </tr>\n",
              "    <tr>\n",
              "      <th>39999</th>\n",
              "      <td>[movie, forever, left, impression, watched, fr...</td>\n",
              "      <td>negative</td>\n",
              "      <td>[movi, forev, left, impress, watch, freshman, ...</td>\n",
              "      <td>[movie, forever, left, impression, watched, fr...</td>\n",
              "    </tr>\n",
              "  </tbody>\n",
              "</table>\n",
              "<p>39728 rows × 4 columns</p>\n",
              "</div>"
            ],
            "text/plain": [
              "                                                  review sentiment  \\\n",
              "0      [caught, little, gem, totally, accident, back,...  positive   \n",
              "1      [cant, believe, let, movie, accomplish, favor,...  negative   \n",
              "2      [spoiler, alert, gets, nerve, people, remake, ...  negative   \n",
              "3      [theres, one, thing, ive, learnt, watching, ge...  negative   \n",
              "4      [remember, theaters, reviews, said, horrible, ...  negative   \n",
              "...                                                  ...       ...   \n",
              "39995  [man, named, walt, disney, mission, satisfy, f...  positive   \n",
              "39996  [first, time, saw, shades, sneakpreview, hadnt...  negative   \n",
              "39997  [waste, time, danger, watch, tempted, tear, dv...  negative   \n",
              "39998  [far, pathetic, movie, indian, cinema, cinema,...  negative   \n",
              "39999  [movie, forever, left, impression, watched, fr...  negative   \n",
              "\n",
              "                                          stemmed_review  \\\n",
              "0      [caught, littl, gem, total, accid, back, reviv...   \n",
              "1      [cant, believ, let, movi, accomplish, favor, f...   \n",
              "2      [spoiler, alert, get, nerv, peopl, remak, use,...   \n",
              "3      [there, one, thing, ive, learnt, watch, georg,...   \n",
              "4      [rememb, theater, review, said, horribl, well,...   \n",
              "...                                                  ...   \n",
              "39995  [man, name, walt, disney, mission, satisfi, fa...   \n",
              "39996  [first, time, saw, shade, sneakpreview, hadnt,...   \n",
              "39997  [wast, time, danger, watch, tempt, tear, dvd, ...   \n",
              "39998  [far, pathet, movi, indian, cinema, cinema, co...   \n",
              "39999  [movi, forev, left, impress, watch, freshman, ...   \n",
              "\n",
              "                                       lemmatized_review  \n",
              "0      [caught, little, gem, totally, accident, back,...  \n",
              "1      [cant, believe, let, movie, accomplish, favor,...  \n",
              "2      [spoiler, alert, get, nerve, people, remake, u...  \n",
              "3      [there, one, thing, ive, learnt, watching, geo...  \n",
              "4      [remember, theater, review, said, horrible, we...  \n",
              "...                                                  ...  \n",
              "39995  [man, named, walt, disney, mission, satisfy, f...  \n",
              "39996  [first, time, saw, shade, sneakpreview, hadnt,...  \n",
              "39997  [waste, time, danger, watch, tempted, tear, dv...  \n",
              "39998  [far, pathetic, movie, indian, cinema, cinema,...  \n",
              "39999  [movie, forever, left, impression, watched, fr...  \n",
              "\n",
              "[39728 rows x 4 columns]"
            ]
          },
          "execution_count": 39,
          "metadata": {},
          "output_type": "execute_result"
        }
      ],
      "source": [
        "df_train_processed"
      ]
    },
    {
      "cell_type": "markdown",
      "metadata": {},
      "source": [
        "While building models, I will use stemmed and lemitized data separately, and then compare both approaches."
      ]
    },
    {
      "cell_type": "markdown",
      "metadata": {},
      "source": [
        "## Vectorization"
      ]
    },
    {
      "cell_type": "markdown",
      "metadata": {},
      "source": [
        "### Bag of Words (BoW)"
      ]
    },
    {
      "cell_type": "markdown",
      "metadata": {},
      "source": [
        "The Bag of Words model represents text by converting it into a collection of words (or tokens) and their frequencies, disregarding grammar, word order, and context. Each document is represented as a vector of word counts, with each element in the vector corresponding to the frequency of a specific word in the document."
      ]
    },
    {
      "cell_type": "code",
      "execution_count": 64,
      "metadata": {},
      "outputs": [],
      "source": [
        "# Convert tokenized data back to text for vectorizers\n",
        "df_train_processed['stemmed_text']    = df_train_processed['stemmed_review'].apply(lambda x: ' '.join(x))\n",
        "df_train_processed['lemmatized_text'] = df_train_processed['lemmatized_review'].apply(lambda x: ' '.join(x))\n",
        "\n",
        "# Create separate vectorizers for stemmed and lemmatized data\n",
        "vectorizer_bow_stemmed = CountVectorizer(max_features=5000) \n",
        "vectorizer_bow_lemmatized = CountVectorizer(max_features=5000)\n",
        "\n",
        "# Fit and transform\n",
        "X_bow_stemmed = vectorizer_bow_stemmed.fit_transform(df_train_processed['stemmed_text'])\n",
        "X_bow_lemmatized = vectorizer_bow_lemmatized.fit_transform(df_train_processed['lemmatized_text'])\n",
        "\n",
        "#bow_stemmed_df = pd.DataFrame(X_bow_stemmed.toarray(), columns = vectorizer_bow_stemmed.get_feature_names_out())\n",
        "#bow_lemmatized_df = pd.DataFrame(X_bow_lemmatized.toarray(), columns = vectorizer_bow_lemmatized.get_feature_names_out())"
      ]
    },
    {
      "cell_type": "code",
      "execution_count": 68,
      "metadata": {},
      "outputs": [
        {
          "name": "stdout",
          "output_type": "stream",
          "text": [
            "Bag of Words - Stemmed:\n",
            "Shape: (39728, 5000)\n",
            "Feature names (first 10): ['aaron' 'abandon' 'abc' 'abduct' 'abil' 'abl' 'abomin' 'abort' 'abound'\n",
            " 'aboutbr']\n",
            "\n",
            "Bag of Words - Lemmatized:\n",
            "Shape: (39728, 5000)\n",
            "Feature names (first 10): ['aaron' 'abandoned' 'abc' 'ability' 'able' 'aboutbr' 'absence' 'absent'\n",
            " 'absolute' 'absolutely']\n"
          ]
        }
      ],
      "source": [
        "print(\"Bag of Words - Stemmed:\")\n",
        "print(f\"Shape: {X_bow_stemmed.shape}\")\n",
        "print(f\"Feature names (first 10): {vectorizer_bow_stemmed.get_feature_names_out()[:10]}\")\n",
        "\n",
        "print(\"\\nBag of Words - Lemmatized:\")\n",
        "print(f\"Shape: {X_bow_lemmatized.shape}\")\n",
        "print(f\"Feature names (first 10): {vectorizer_bow_lemmatized.get_feature_names_out()[:10]}\")"
      ]
    },
    {
      "cell_type": "markdown",
      "metadata": {},
      "source": [
        "### Term Frequency-Inverse Document Frequency (TF-IDF)"
      ]
    },
    {
      "cell_type": "code",
      "execution_count": 70,
      "metadata": {},
      "outputs": [],
      "source": [
        "# TF-IDF Vectorization\n",
        "vectorizer_tfidf_stemmed    = TfidfVectorizer(max_features=5000)\n",
        "vectorizer_tfidf_lemmatized = TfidfVectorizer(max_features=5000)\n",
        "\n",
        "X_tfidf_stemmed    = vectorizer_tfidf_stemmed.fit_transform(df_train_processed['stemmed_text'])\n",
        "X_tfidf_lemmatized = vectorizer_tfidf_lemmatized.fit_transform(df_train_processed['lemmatized_text'])"
      ]
    },
    {
      "cell_type": "code",
      "execution_count": 71,
      "metadata": {},
      "outputs": [
        {
          "name": "stdout",
          "output_type": "stream",
          "text": [
            "TF-IDF - Stemmed:\n",
            "Shape: (39728, 5000)\n",
            "Feature names (first 10): ['aaron' 'abandon' 'abc' 'abduct' 'abil' 'abl' 'abomin' 'abort' 'abound'\n",
            " 'aboutbr']\n",
            "\n",
            "TF-IDF - Lemmatized:\n",
            "Shape: (39728, 5000)\n",
            "Feature names (first 10): ['aaron' 'abandoned' 'abc' 'ability' 'able' 'aboutbr' 'absence' 'absent'\n",
            " 'absolute' 'absolutely']\n"
          ]
        }
      ],
      "source": [
        "print(\"TF-IDF - Stemmed:\")\n",
        "print(f\"Shape: {X_tfidf_stemmed.shape}\")\n",
        "print(f\"Feature names (first 10): {vectorizer_tfidf_stemmed.get_feature_names_out()[:10]}\")\n",
        "\n",
        "print(\"\\nTF-IDF - Lemmatized:\")\n",
        "print(f\"Shape: {X_tfidf_lemmatized.shape}\")\n",
        "print(f\"Feature names (first 10): {vectorizer_tfidf_lemmatized.get_feature_names_out()[:10]}\")"
      ]
    },
    {
      "cell_type": "markdown",
      "metadata": {},
      "source": [
        "## Visualizing Word Frequencies (Word Clouds)"
      ]
    },
    {
      "cell_type": "markdown",
      "metadata": {},
      "source": [
        "To better understand the most frequent words in the dataset after preprocessing, we generate Word Clouds to visualize word occurrences. This visualization helps identify the most important or frequent words in the text."
      ]
    },
    {
      "cell_type": "code",
      "execution_count": 69,
      "metadata": {},
      "outputs": [],
      "source": [
        "# Generate and visualize word clouds\n",
        "def visualize_wordcloud(text_data, title):\n",
        "    \"\"\"\n",
        "    Generates and displays a word cloud visualization for a given text dataset.\n",
        "\n",
        "    Parameters:\n",
        "    - text_data (list of str): A list of strings (usually a collection of text) to visualize in the word cloud.\n",
        "    - title (str): The title of the word cloud plot.\n",
        "    \"\"\"\n",
        "    wordcloud = WordCloud(width = 800, height = 400, max_words = 100).generate(' '.join(text_data))\n",
        "    plt.figure(figsize = (10, 5))\n",
        "    plt.imshow(wordcloud, interpolation = 'bilinear')\n",
        "    plt.axis('off')\n",
        "    plt.title(title)\n",
        "    plt.show()"
      ]
    },
    {
      "cell_type": "code",
      "execution_count": 80,
      "metadata": {},
      "outputs": [
        {
          "ename": "MemoryError",
          "evalue": "",
          "output_type": "error",
          "traceback": [
            "\u001b[1;31m---------------------------------------------------------------------------\u001b[0m",
            "\u001b[1;31mMemoryError\u001b[0m                               Traceback (most recent call last)",
            "Cell \u001b[1;32mIn[80], line 1\u001b[0m\n\u001b[1;32m----> 1\u001b[0m \u001b[43mvisualize_wordcloud\u001b[49m\u001b[43m(\u001b[49m\u001b[43mdf_train_processed\u001b[49m\u001b[43m[\u001b[49m\u001b[38;5;124;43m'\u001b[39;49m\u001b[38;5;124;43mlemmatized_text\u001b[39;49m\u001b[38;5;124;43m'\u001b[39;49m\u001b[43m]\u001b[49m\u001b[43m,\u001b[49m\u001b[43m \u001b[49m\u001b[38;5;124;43m\"\u001b[39;49m\u001b[38;5;124;43mWord Cloud (Train set)\u001b[39;49m\u001b[38;5;124;43m\"\u001b[39;49m\u001b[43m)\u001b[49m\n",
            "Cell \u001b[1;32mIn[69], line 10\u001b[0m, in \u001b[0;36mvisualize_wordcloud\u001b[1;34m(text_data, title)\u001b[0m\n\u001b[0;32m      2\u001b[0m \u001b[38;5;28;01mdef\u001b[39;00m \u001b[38;5;21mvisualize_wordcloud\u001b[39m(text_data, title):\n\u001b[0;32m      3\u001b[0m \u001b[38;5;250m    \u001b[39m\u001b[38;5;124;03m\"\"\"\u001b[39;00m\n\u001b[0;32m      4\u001b[0m \u001b[38;5;124;03m    Generates and displays a word cloud visualization for a given text dataset.\u001b[39;00m\n\u001b[0;32m      5\u001b[0m \n\u001b[1;32m   (...)\u001b[0m\n\u001b[0;32m      8\u001b[0m \u001b[38;5;124;03m    - title (str): The title of the word cloud plot.\u001b[39;00m\n\u001b[0;32m      9\u001b[0m \u001b[38;5;124;03m    \"\"\"\u001b[39;00m\n\u001b[1;32m---> 10\u001b[0m     wordcloud \u001b[38;5;241m=\u001b[39m \u001b[43mWordCloud\u001b[49m\u001b[43m(\u001b[49m\u001b[43mwidth\u001b[49m\u001b[43m \u001b[49m\u001b[38;5;241;43m=\u001b[39;49m\u001b[43m \u001b[49m\u001b[38;5;241;43m800\u001b[39;49m\u001b[43m,\u001b[49m\u001b[43m \u001b[49m\u001b[43mheight\u001b[49m\u001b[43m \u001b[49m\u001b[38;5;241;43m=\u001b[39;49m\u001b[43m \u001b[49m\u001b[38;5;241;43m400\u001b[39;49m\u001b[43m,\u001b[49m\u001b[43m \u001b[49m\u001b[43mmax_words\u001b[49m\u001b[43m \u001b[49m\u001b[38;5;241;43m=\u001b[39;49m\u001b[43m \u001b[49m\u001b[38;5;241;43m100\u001b[39;49m\u001b[43m)\u001b[49m\u001b[38;5;241;43m.\u001b[39;49m\u001b[43mgenerate\u001b[49m\u001b[43m(\u001b[49m\u001b[38;5;124;43m'\u001b[39;49m\u001b[38;5;124;43m \u001b[39;49m\u001b[38;5;124;43m'\u001b[39;49m\u001b[38;5;241;43m.\u001b[39;49m\u001b[43mjoin\u001b[49m\u001b[43m(\u001b[49m\u001b[43mtext_data\u001b[49m\u001b[43m)\u001b[49m\u001b[43m)\u001b[49m\n\u001b[0;32m     11\u001b[0m     plt\u001b[38;5;241m.\u001b[39mfigure(figsize \u001b[38;5;241m=\u001b[39m (\u001b[38;5;241m10\u001b[39m, \u001b[38;5;241m5\u001b[39m))\n\u001b[0;32m     12\u001b[0m     plt\u001b[38;5;241m.\u001b[39mimshow(wordcloud, interpolation \u001b[38;5;241m=\u001b[39m \u001b[38;5;124m'\u001b[39m\u001b[38;5;124mbilinear\u001b[39m\u001b[38;5;124m'\u001b[39m)\n",
            "File \u001b[1;32mc:\\Users\\LENOVO\\AppData\\Local\\Programs\\Python\\Python311\\Lib\\site-packages\\wordcloud\\wordcloud.py:642\u001b[0m, in \u001b[0;36mWordCloud.generate\u001b[1;34m(self, text)\u001b[0m\n\u001b[0;32m    627\u001b[0m \u001b[38;5;28;01mdef\u001b[39;00m \u001b[38;5;21mgenerate\u001b[39m(\u001b[38;5;28mself\u001b[39m, text):\n\u001b[0;32m    628\u001b[0m \u001b[38;5;250m    \u001b[39m\u001b[38;5;124;03m\"\"\"Generate wordcloud from text.\u001b[39;00m\n\u001b[0;32m    629\u001b[0m \n\u001b[0;32m    630\u001b[0m \u001b[38;5;124;03m    The input \"text\" is expected to be a natural text. If you pass a sorted\u001b[39;00m\n\u001b[1;32m   (...)\u001b[0m\n\u001b[0;32m    640\u001b[0m \u001b[38;5;124;03m    self\u001b[39;00m\n\u001b[0;32m    641\u001b[0m \u001b[38;5;124;03m    \"\"\"\u001b[39;00m\n\u001b[1;32m--> 642\u001b[0m     \u001b[38;5;28;01mreturn\u001b[39;00m \u001b[38;5;28;43mself\u001b[39;49m\u001b[38;5;241;43m.\u001b[39;49m\u001b[43mgenerate_from_text\u001b[49m\u001b[43m(\u001b[49m\u001b[43mtext\u001b[49m\u001b[43m)\u001b[49m\n",
            "File \u001b[1;32mc:\\Users\\LENOVO\\AppData\\Local\\Programs\\Python\\Python311\\Lib\\site-packages\\wordcloud\\wordcloud.py:623\u001b[0m, in \u001b[0;36mWordCloud.generate_from_text\u001b[1;34m(self, text)\u001b[0m\n\u001b[0;32m    606\u001b[0m \u001b[38;5;28;01mdef\u001b[39;00m \u001b[38;5;21mgenerate_from_text\u001b[39m(\u001b[38;5;28mself\u001b[39m, text):\n\u001b[0;32m    607\u001b[0m \u001b[38;5;250m    \u001b[39m\u001b[38;5;124;03m\"\"\"Generate wordcloud from text.\u001b[39;00m\n\u001b[0;32m    608\u001b[0m \n\u001b[0;32m    609\u001b[0m \u001b[38;5;124;03m    The input \"text\" is expected to be a natural text. If you pass a sorted\u001b[39;00m\n\u001b[1;32m   (...)\u001b[0m\n\u001b[0;32m    621\u001b[0m \u001b[38;5;124;03m    self\u001b[39;00m\n\u001b[0;32m    622\u001b[0m \u001b[38;5;124;03m    \"\"\"\u001b[39;00m\n\u001b[1;32m--> 623\u001b[0m     words \u001b[38;5;241m=\u001b[39m \u001b[38;5;28;43mself\u001b[39;49m\u001b[38;5;241;43m.\u001b[39;49m\u001b[43mprocess_text\u001b[49m\u001b[43m(\u001b[49m\u001b[43mtext\u001b[49m\u001b[43m)\u001b[49m\n\u001b[0;32m    624\u001b[0m     \u001b[38;5;28mself\u001b[39m\u001b[38;5;241m.\u001b[39mgenerate_from_frequencies(words)\n\u001b[0;32m    625\u001b[0m     \u001b[38;5;28;01mreturn\u001b[39;00m \u001b[38;5;28mself\u001b[39m\n",
            "File \u001b[1;32mc:\\Users\\LENOVO\\AppData\\Local\\Programs\\Python\\Python311\\Lib\\site-packages\\wordcloud\\wordcloud.py:585\u001b[0m, in \u001b[0;36mWordCloud.process_text\u001b[1;34m(self, text)\u001b[0m\n\u001b[0;32m    582\u001b[0m pattern \u001b[38;5;241m=\u001b[39m \u001b[38;5;124mr\u001b[39m\u001b[38;5;124m\"\u001b[39m\u001b[38;5;124m\\\u001b[39m\u001b[38;5;124mw[\u001b[39m\u001b[38;5;124m\\\u001b[39m\u001b[38;5;124mw\u001b[39m\u001b[38;5;124m'\u001b[39m\u001b[38;5;124m]*\u001b[39m\u001b[38;5;124m\"\u001b[39m \u001b[38;5;28;01mif\u001b[39;00m \u001b[38;5;28mself\u001b[39m\u001b[38;5;241m.\u001b[39mmin_word_length \u001b[38;5;241m<\u001b[39m\u001b[38;5;241m=\u001b[39m \u001b[38;5;241m1\u001b[39m \u001b[38;5;28;01melse\u001b[39;00m \u001b[38;5;124mr\u001b[39m\u001b[38;5;124m\"\u001b[39m\u001b[38;5;124m\\\u001b[39m\u001b[38;5;124mw[\u001b[39m\u001b[38;5;124m\\\u001b[39m\u001b[38;5;124mw\u001b[39m\u001b[38;5;124m'\u001b[39m\u001b[38;5;124m]+\u001b[39m\u001b[38;5;124m\"\u001b[39m\n\u001b[0;32m    583\u001b[0m regexp \u001b[38;5;241m=\u001b[39m \u001b[38;5;28mself\u001b[39m\u001b[38;5;241m.\u001b[39mregexp \u001b[38;5;28;01mif\u001b[39;00m \u001b[38;5;28mself\u001b[39m\u001b[38;5;241m.\u001b[39mregexp \u001b[38;5;129;01mis\u001b[39;00m \u001b[38;5;129;01mnot\u001b[39;00m \u001b[38;5;28;01mNone\u001b[39;00m \u001b[38;5;28;01melse\u001b[39;00m pattern\n\u001b[1;32m--> 585\u001b[0m words \u001b[38;5;241m=\u001b[39m \u001b[43mre\u001b[49m\u001b[38;5;241;43m.\u001b[39;49m\u001b[43mfindall\u001b[49m\u001b[43m(\u001b[49m\u001b[43mregexp\u001b[49m\u001b[43m,\u001b[49m\u001b[43m \u001b[49m\u001b[43mtext\u001b[49m\u001b[43m,\u001b[49m\u001b[43m \u001b[49m\u001b[43mflags\u001b[49m\u001b[43m)\u001b[49m\n\u001b[0;32m    586\u001b[0m \u001b[38;5;66;03m# remove 's\u001b[39;00m\n\u001b[0;32m    587\u001b[0m words \u001b[38;5;241m=\u001b[39m [word[:\u001b[38;5;241m-\u001b[39m\u001b[38;5;241m2\u001b[39m] \u001b[38;5;28;01mif\u001b[39;00m word\u001b[38;5;241m.\u001b[39mlower()\u001b[38;5;241m.\u001b[39mendswith(\u001b[38;5;124m\"\u001b[39m\u001b[38;5;124m'\u001b[39m\u001b[38;5;124ms\u001b[39m\u001b[38;5;124m\"\u001b[39m) \u001b[38;5;28;01melse\u001b[39;00m word\n\u001b[0;32m    588\u001b[0m          \u001b[38;5;28;01mfor\u001b[39;00m word \u001b[38;5;129;01min\u001b[39;00m words]\n",
            "File \u001b[1;32mc:\\Users\\LENOVO\\AppData\\Local\\Programs\\Python\\Python311\\Lib\\re\\__init__.py:216\u001b[0m, in \u001b[0;36mfindall\u001b[1;34m(pattern, string, flags)\u001b[0m\n\u001b[0;32m    208\u001b[0m \u001b[38;5;28;01mdef\u001b[39;00m \u001b[38;5;21mfindall\u001b[39m(pattern, string, flags\u001b[38;5;241m=\u001b[39m\u001b[38;5;241m0\u001b[39m):\n\u001b[0;32m    209\u001b[0m \u001b[38;5;250m    \u001b[39m\u001b[38;5;124;03m\"\"\"Return a list of all non-overlapping matches in the string.\u001b[39;00m\n\u001b[0;32m    210\u001b[0m \n\u001b[0;32m    211\u001b[0m \u001b[38;5;124;03m    If one or more capturing groups are present in the pattern, return\u001b[39;00m\n\u001b[1;32m   (...)\u001b[0m\n\u001b[0;32m    214\u001b[0m \n\u001b[0;32m    215\u001b[0m \u001b[38;5;124;03m    Empty matches are included in the result.\"\"\"\u001b[39;00m\n\u001b[1;32m--> 216\u001b[0m     \u001b[38;5;28;01mreturn\u001b[39;00m _compile(pattern, flags)\u001b[38;5;241m.\u001b[39mfindall(string)\n",
            "\u001b[1;31mMemoryError\u001b[0m: "
          ]
        }
      ],
      "source": [
        "visualize_wordcloud(df_train_processed['lemmatized_text'], \"Word Cloud (Train set)\")"
      ]
    },
    {
      "cell_type": "code",
      "execution_count": null,
      "metadata": {},
      "outputs": [],
      "source": []
    }
  ],
  "metadata": {
    "colab": {
      "collapsed_sections": [
        "vJOKgfbPSO3h",
        "caXYBkvbTeSY"
      ],
      "provenance": [],
      "toc_visible": true
    },
    "kernelspec": {
      "display_name": "Python 3",
      "name": "python3"
    },
    "language_info": {
      "codemirror_mode": {
        "name": "ipython",
        "version": 3
      },
      "file_extension": ".py",
      "mimetype": "text/x-python",
      "name": "python",
      "nbconvert_exporter": "python",
      "pygments_lexer": "ipython3",
      "version": "3.11.5"
    }
  },
  "nbformat": 4,
  "nbformat_minor": 0
}
